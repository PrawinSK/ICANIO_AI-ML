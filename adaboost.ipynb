{
  "nbformat": 4,
  "nbformat_minor": 0,
  "metadata": {
    "colab": {
      "provenance": []
    },
    "kernelspec": {
      "name": "python3",
      "display_name": "Python 3"
    },
    "language_info": {
      "name": "python"
    }
  },
  "cells": [
    {
      "cell_type": "code",
      "execution_count": null,
      "metadata": {
        "colab": {
          "base_uri": "https://localhost:8080/"
        },
        "id": "8WILkBcJbUpN",
        "outputId": "906f2ab0-ac50-406c-83ec-b2d93fc26a88"
      },
      "outputs": [
        {
          "output_type": "stream",
          "name": "stdout",
          "text": [
            "Accuracy: 0.68\n"
          ]
        }
      ],
      "source": [
        "import pandas as pd\n",
        "from sklearn.ensemble import AdaBoostClassifier\n",
        "from sklearn.tree import DecisionTreeClassifier\n",
        "from sklearn.model_selection import train_test_split\n",
        "from sklearn.metrics import accuracy_score\n",
        "import numpy as np\n",
        "\n",
        "\n",
        "df= pd.read_csv('/content/data.csv')\n",
        "df.head()\n",
        "\n",
        "\n",
        "\n",
        "X = df.iloc[:, :-1]\n",
        "y = df.iloc[:, -1]\n",
        "\n",
        "y_pred = pd.qcut(y, q=3, labels=['low', 'medium', 'high'])\n",
        "\n",
        "\n",
        "X_train, X_test, y_train_discretized, y_test_discretized = train_test_split(X, y_pred, test_size=0.3, random_state=42)\n",
        "\n",
        "\n",
        "base_estimator = DecisionTreeClassifier(max_depth=1)\n",
        "\n",
        "\n",
        "ada_clf = AdaBoostClassifier(estimator=base_estimator, n_estimators=50, learning_rate=0.1, random_state=42)\n",
        "\n",
        "\n",
        "ada_clf.fit(X_train, y_train_discretized)\n",
        "y_pred_discretized = ada_clf.predict(X_test)\n",
        "\n",
        "\n",
        "accuracy = accuracy_score(y_test_discretized, y_pred_discretized)\n",
        "print(f\"Accuracy: {accuracy:.2f}\")\n",
        "\n",
        "\n"
      ]
    }
  ]
}