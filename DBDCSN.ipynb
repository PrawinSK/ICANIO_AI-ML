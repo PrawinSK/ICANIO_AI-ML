{
  "nbformat": 4,
  "nbformat_minor": 0,
  "metadata": {
    "colab": {
      "provenance": []
    },
    "kernelspec": {
      "name": "python3",
      "display_name": "Python 3"
    },
    "language_info": {
      "name": "python"
    }
  },
  "cells": [
    {
      "cell_type": "code",
      "execution_count": null,
      "metadata": {
        "colab": {
          "base_uri": "https://localhost:8080/"
        },
        "id": "vqcqtq-TZ9yq",
        "outputId": "30c43d40-7e48-413f-8bb4-e54bfb16fb80"
      },
      "outputs": [
        {
          "output_type": "stream",
          "name": "stdout",
          "text": [
            "Estimated clusters: 1\n",
            "Estimated noise points: 2\n",
            "   User ID  Instagram visit score  Spending_rank(0 to 100)  DBSCAN_Label\n",
            "0        0                     63                24.050708             0\n",
            "1        1                     61                25.223290             0\n",
            "2        2                    104                18.528245             0\n",
            "3        3                     82                86.890232             0\n",
            "4        4                     14                31.492397             0\n"
          ]
        }
      ],
      "source": [
        "import pandas as pd\n",
        "import numpy as np\n",
        "from sklearn.preprocessing import StandardScaler\n",
        "from sklearn.cluster import DBSCAN\n",
        "from sklearn.metrics import silhou   ette_score\n",
        "\n",
        "\n",
        "df = pd.read_csv('/content/Instagram visits clustering.csv')\n",
        "\n",
        "\n",
        "X = df.select_dtypes(include='number')\n",
        "X_scaled = StandardScaler().fit_transform(X)\n",
        "\n",
        "\n",
        "dbscan = DBSCAN(eps=0.5, min_samples=5)\n",
        "labels = dbscan.fit_predict(X_scaled)\n",
        "\n",
        "n_clusters = len(set(labels)) - (1 if -1 in labels else 0)\n",
        "print(f'Estimated clusters: {n_clusters}')\n",
        "print(f'Estimated noise points: {list(labels).count(-1)}')\n",
        "\n",
        "\n",
        "df['DBSCAN_Label'] = labels\n",
        "print(df.head())"
      ]
    }
  ]
}